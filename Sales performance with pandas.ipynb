{
 "cells": [
  {
   "cell_type": "code",
   "execution_count": 2,
   "metadata": {},
   "outputs": [
    {
     "name": "stdout",
     "output_type": "stream",
     "text": [
      "         Date     Store         City  Revenue Product Category  Quantity  \\\n",
      "0  2023-04-13   Store_2      Phoenix      321             Toys         2   \n",
      "1  2024-03-11  Store_10      Houston     1513        Groceries         8   \n",
      "2  2023-12-15   Store_2  Los Angeles     1821        Furniture         9   \n",
      "3  2023-09-28  Store_10  Los Angeles     1312         Clothing         7   \n",
      "4  2023-04-17   Store_1      Chicago      426         Clothing         3   \n",
      "\n",
      "   Employees  Transactions  Payment Method  Discount  Customer_Age  \\\n",
      "0         28            17  Online Payment     13.82            27   \n",
      "1          6            36  Online Payment     21.60            56   \n",
      "2         26            19      Debit Card     49.02            45   \n",
      "3          7            64     Credit Card      3.38            66   \n",
      "4         16            91  Online Payment     25.94            53   \n",
      "\n",
      "  Customer_Gender  \n",
      "0      Non-binary  \n",
      "1      Non-binary  \n",
      "2      Non-binary  \n",
      "3          Female  \n",
      "4            Male  \n"
     ]
    }
   ],
   "source": [
    "import pandas as pd\n",
    "\n",
    "data = pd.read_csv(\"https://raw.githubusercontent.com/Pankaj-Str/Complete-Python-Mastery/refs/heads/main/54%20Day%20Case%20Study/02/sales_data.csv\")\n",
    "\n",
    "print(data.head())"
   ]
  },
  {
   "cell_type": "code",
   "execution_count": 13,
   "metadata": {},
   "outputs": [
    {
     "name": "stdout",
     "output_type": "stream",
     "text": [
      "Defaulting to user installation because normal site-packages is not writeable\n",
      "Requirement already satisfied: seaborn in c:\\users\\sagar\\appdata\\roaming\\python\\python312\\site-packages (0.13.2)\n",
      "Requirement already satisfied: numpy!=1.24.0,>=1.20 in c:\\users\\sagar\\appdata\\roaming\\python\\python312\\site-packages (from seaborn) (2.2.3)\n",
      "Requirement already satisfied: pandas>=1.2 in c:\\users\\sagar\\appdata\\roaming\\python\\python312\\site-packages (from seaborn) (2.2.3)\n",
      "Requirement already satisfied: matplotlib!=3.6.1,>=3.4 in c:\\users\\sagar\\appdata\\roaming\\python\\python312\\site-packages (from seaborn) (3.10.1)\n",
      "Requirement already satisfied: contourpy>=1.0.1 in c:\\users\\sagar\\appdata\\roaming\\python\\python312\\site-packages (from matplotlib!=3.6.1,>=3.4->seaborn) (1.3.1)\n",
      "Requirement already satisfied: cycler>=0.10 in c:\\users\\sagar\\appdata\\roaming\\python\\python312\\site-packages (from matplotlib!=3.6.1,>=3.4->seaborn) (0.12.1)\n",
      "Requirement already satisfied: fonttools>=4.22.0 in c:\\users\\sagar\\appdata\\roaming\\python\\python312\\site-packages (from matplotlib!=3.6.1,>=3.4->seaborn) (4.56.0)\n",
      "Requirement already satisfied: kiwisolver>=1.3.1 in c:\\users\\sagar\\appdata\\roaming\\python\\python312\\site-packages (from matplotlib!=3.6.1,>=3.4->seaborn) (1.4.8)\n",
      "Requirement already satisfied: packaging>=20.0 in c:\\users\\sagar\\appdata\\roaming\\python\\python312\\site-packages (from matplotlib!=3.6.1,>=3.4->seaborn) (24.2)\n",
      "Requirement already satisfied: pillow>=8 in c:\\users\\sagar\\appdata\\roaming\\python\\python312\\site-packages (from matplotlib!=3.6.1,>=3.4->seaborn) (11.1.0)\n",
      "Requirement already satisfied: pyparsing>=2.3.1 in c:\\users\\sagar\\appdata\\roaming\\python\\python312\\site-packages (from matplotlib!=3.6.1,>=3.4->seaborn) (3.2.1)\n",
      "Requirement already satisfied: python-dateutil>=2.7 in c:\\users\\sagar\\appdata\\roaming\\python\\python312\\site-packages (from matplotlib!=3.6.1,>=3.4->seaborn) (2.9.0.post0)\n",
      "Requirement already satisfied: pytz>=2020.1 in c:\\users\\sagar\\appdata\\roaming\\python\\python312\\site-packages (from pandas>=1.2->seaborn) (2025.1)\n",
      "Requirement already satisfied: tzdata>=2022.7 in c:\\users\\sagar\\appdata\\roaming\\python\\python312\\site-packages (from pandas>=1.2->seaborn) (2025.1)\n",
      "Requirement already satisfied: six>=1.5 in c:\\users\\sagar\\appdata\\roaming\\python\\python312\\site-packages (from python-dateutil>=2.7->matplotlib!=3.6.1,>=3.4->seaborn) (1.17.0)\n",
      "Note: you may need to restart the kernel to use updated packages.\n"
     ]
    },
    {
     "name": "stderr",
     "output_type": "stream",
     "text": [
      "\n",
      "[notice] A new release of pip is available: 23.2.1 -> 25.0.1\n",
      "[notice] To update, run: python.exe -m pip install --upgrade pip\n"
     ]
    }
   ],
   "source": [
    "%pip install seaborn\n",
    "\n",
    "\n",
    "import matplotlib.pyplot as plt\n",
    "import seaborn as sns"
   ]
  },
  {
   "cell_type": "code",
   "execution_count": 3,
   "metadata": {},
   "outputs": [
    {
     "name": "stdout",
     "output_type": "stream",
     "text": [
      "Date                0\n",
      "Store               0\n",
      "City                0\n",
      "Revenue             0\n",
      "Product Category    0\n",
      "Quantity            0\n",
      "Employees           0\n",
      "Transactions        0\n",
      "Payment Method      0\n",
      "Discount            0\n",
      "Customer_Age        0\n",
      "Customer_Gender     0\n",
      "dtype: int64\n"
     ]
    }
   ],
   "source": [
    "# Data cleaning \n",
    "\n",
    "# check for missing values \n",
    "print(data.isnull().sum())"
   ]
  },
  {
   "cell_type": "code",
   "execution_count": 4,
   "metadata": {},
   "outputs": [
    {
     "name": "stdout",
     "output_type": "stream",
     "text": [
      "           Date     Store         City  Revenue Product Category  Quantity  \\\n",
      "0    2023-04-13   Store_2      Phoenix      321             Toys         2   \n",
      "1    2024-03-11  Store_10      Houston     1513        Groceries         8   \n",
      "2    2023-12-15   Store_2  Los Angeles     1821        Furniture         9   \n",
      "3    2023-09-28  Store_10  Los Angeles     1312         Clothing         7   \n",
      "4    2023-04-17   Store_1      Chicago      426         Clothing         3   \n",
      "..          ...       ...          ...      ...              ...       ...   \n",
      "495  2023-04-24   Store_8     New York     1429         Clothing         3   \n",
      "496  2023-10-15   Store_1      Phoenix      734         Clothing         9   \n",
      "497  2024-03-06   Store_3      Phoenix     1977      Electronics         2   \n",
      "498  2023-12-08  Store_10      Houston     1806         Clothing         9   \n",
      "499  2023-05-31   Store_9     New York     1704        Groceries         5   \n",
      "\n",
      "     Employees  Transactions  Payment Method  Discount  Customer_Age  \\\n",
      "0           28            17  Online Payment     13.82            27   \n",
      "1            6            36  Online Payment     21.60            56   \n",
      "2           26            19      Debit Card     49.02            45   \n",
      "3            7            64     Credit Card      3.38            66   \n",
      "4           16            91  Online Payment     25.94            53   \n",
      "..         ...           ...             ...       ...           ...   \n",
      "495          9            75     Credit Card     13.92            60   \n",
      "496         11            77  Online Payment     39.91            64   \n",
      "497         25            50  Online Payment     16.31            61   \n",
      "498         12            11     Credit Card     14.97            52   \n",
      "499          9            95  Online Payment     11.63            34   \n",
      "\n",
      "    Customer_Gender  \n",
      "0        Non-binary  \n",
      "1        Non-binary  \n",
      "2        Non-binary  \n",
      "3            Female  \n",
      "4              Male  \n",
      "..              ...  \n",
      "495            Male  \n",
      "496          Female  \n",
      "497      Non-binary  \n",
      "498            Male  \n",
      "499            Male  \n",
      "\n",
      "[500 rows x 12 columns]\n"
     ]
    }
   ],
   "source": [
    "sales_df = data.dropna()\n",
    "print(sales_df)"
   ]
  },
  {
   "cell_type": "code",
   "execution_count": 7,
   "metadata": {},
   "outputs": [
    {
     "name": "stdout",
     "output_type": "stream",
     "text": [
      "Date                 object\n",
      "Store                object\n",
      "City                 object\n",
      "Revenue               int64\n",
      "Product Category     object\n",
      "Quantity              int64\n",
      "Employees             int64\n",
      "Transactions          int64\n",
      "Payment Method       object\n",
      "Discount            float64\n",
      "Customer_Age          int64\n",
      "Customer_Gender      object\n",
      "dtype: object\n"
     ]
    }
   ],
   "source": [
    "print(data.dtypes)"
   ]
  },
  {
   "cell_type": "code",
   "execution_count": 9,
   "metadata": {},
   "outputs": [
    {
     "name": "stdout",
     "output_type": "stream",
     "text": [
      "Date                datetime64[ns]\n",
      "Store                       object\n",
      "City                        object\n",
      "Revenue                      int64\n",
      "Product Category            object\n",
      "Quantity                     int64\n",
      "Employees                    int64\n",
      "Transactions                 int64\n",
      "Payment Method              object\n",
      "Discount                   float64\n",
      "Customer_Age                 int64\n",
      "Customer_Gender             object\n",
      "dtype: object\n"
     ]
    }
   ],
   "source": [
    "# convert date col to date and time \n",
    "data['Date'] = pd.to_datetime(data['Date'])\n",
    "\n",
    "print(data.dtypes)"
   ]
  },
  {
   "cell_type": "code",
   "execution_count": 10,
   "metadata": {},
   "outputs": [
    {
     "name": "stdout",
     "output_type": "stream",
     "text": [
      "        Date     Store         City  Revenue Product Category  Quantity  \\\n",
      "0 2023-04-13   Store_2      Phoenix      321             Toys         2   \n",
      "1 2024-03-11  Store_10      Houston     1513        Groceries         8   \n",
      "2 2023-12-15   Store_2  Los Angeles     1821        Furniture         9   \n",
      "3 2023-09-28  Store_10  Los Angeles     1312         Clothing         7   \n",
      "4 2023-04-17   Store_1      Chicago      426         Clothing         3   \n",
      "\n",
      "   Employees  Transactions  Payment Method  Discount  Customer_Age  \\\n",
      "0         28            17  Online Payment     13.82            27   \n",
      "1          6            36  Online Payment     21.60            56   \n",
      "2         26            19      Debit Card     49.02            45   \n",
      "3          7            64     Credit Card      3.38            66   \n",
      "4         16            91  Online Payment     25.94            53   \n",
      "\n",
      "  Customer_Gender  \n",
      "0      Non-binary  \n",
      "1      Non-binary  \n",
      "2      Non-binary  \n",
      "3          Female  \n",
      "4            Male  \n"
     ]
    }
   ],
   "source": [
    "# remove duplicates \n",
    "\n",
    "data = data.drop_duplicates()\n",
    "print(data.head())"
   ]
  },
  {
   "cell_type": "code",
   "execution_count": 11,
   "metadata": {},
   "outputs": [
    {
     "name": "stdout",
     "output_type": "stream",
     "text": [
      "500\n"
     ]
    }
   ],
   "source": [
    "# Calculate the total number of transactions recorded in the dataset.\n",
    "print(data.shape[0])"
   ]
  },
  {
   "cell_type": "code",
   "execution_count": null,
   "metadata": {},
   "outputs": [
    {
     "name": "stdout",
     "output_type": "stream",
     "text": [
      "Store\n",
      "Store_1     61734\n",
      "Store_10    78093\n",
      "Store_2     46645\n",
      "Store_3     48520\n",
      "Store_4     39991\n",
      "Store_5     64218\n",
      "Store_6     51657\n",
      "Store_7     45679\n",
      "Store_8     35540\n",
      "Store_9     38449\n",
      "Name: Revenue, dtype: int64\n"
     ]
    }
   ],
   "source": [
    " \n",
    "#Identify the store location with the highest total sales revenue.\n",
    "\n",
    "print(data.groupby('Store')['Revenue'].sum())"
   ]
  },
  {
   "cell_type": "code",
   "execution_count": null,
   "metadata": {},
   "outputs": [
    {
     "name": "stdout",
     "output_type": "stream",
     "text": [
      "Store_10\n"
     ]
    }
   ],
   "source": [
    "#highest total sales revenue by store\n",
    "print(data.groupby('Store')['Revenue'].sum().idxmax())"
   ]
  },
  {
   "cell_type": "code",
   "execution_count": null,
   "metadata": {},
   "outputs": [
    {
     "name": "stdout",
     "output_type": "stream",
     "text": [
      "City\n",
      "Chicago        107678\n",
      "New York       106089\n",
      "Los Angeles    104965\n",
      "Phoenix         98623\n",
      "Houston         93171\n",
      "Name: Revenue, dtype: int64\n"
     ]
    }
   ],
   "source": [
    "# List the top 5 cities in terms of total sales.\n",
    "print(data.groupby('City')['Revenue'].sum().sort_values(ascending=False).head()) "
   ]
  },
  {
   "cell_type": "code",
   "execution_count": 40,
   "metadata": {},
   "outputs": [
    {
     "name": "stdout",
     "output_type": "stream",
     "text": [
      "Most Sold Product Category is Clothing\n"
     ]
    }
   ],
   "source": [
    "# Determine the most sold product category.\n",
    "product = data.groupby('Product Category')['Quantity'].sum().idxmax()\n",
    "print(f'Most Sold Product Category is {product}')"
   ]
  },
  {
   "cell_type": "code",
   "execution_count": 23,
   "metadata": {},
   "outputs": [
    {
     "name": "stdout",
     "output_type": "stream",
     "text": [
      "Product Category\n",
      "Clothing       576\n",
      "Electronics    484\n",
      "Furniture      531\n",
      "Groceries      437\n",
      "Toys           516\n",
      "Name: Quantity, dtype: int64\n"
     ]
    }
   ],
   "source": [
    "print(data.groupby('Product Category')['Quantity'].sum())"
   ]
  },
  {
   "cell_type": "code",
   "execution_count": 42,
   "metadata": {},
   "outputs": [
    {
     "name": "stdout",
     "output_type": "stream",
     "text": [
      "The Store with the Highest Average Transaction is Store_8\n"
     ]
    }
   ],
   "source": [
    "# Find the store with the highest average transaction value.\n",
    "average_transaction =data.groupby('Store')['Transactions'].mean().idxmax()\n",
    "print(f'The Store with the Highest Average Transaction is {average_transaction}')"
   ]
  },
  {
   "cell_type": "code",
   "execution_count": 44,
   "metadata": {},
   "outputs": [
    {
     "name": "stdout",
     "output_type": "stream",
     "text": [
      "Total Revenue generate by the each store\n",
      "Store\n",
      "Store_1     61734\n",
      "Store_10    78093\n",
      "Store_2     46645\n",
      "Store_3     48520\n",
      "Store_4     39991\n",
      "Store_5     64218\n",
      "Store_6     51657\n",
      "Store_7     45679\n",
      "Store_8     35540\n",
      "Store_9     38449\n",
      "Name: Revenue, dtype: int64\n"
     ]
    }
   ],
   "source": [
    "# Calculate the total revenue generated by each store.\n",
    "print('Total Revenue generate by the each store')\n",
    "print(data.groupby('Store')['Revenue'].sum())\n"
   ]
  },
  {
   "cell_type": "code",
   "execution_count": 45,
   "metadata": {},
   "outputs": [
    {
     "name": "stdout",
     "output_type": "stream",
     "text": [
      "Lowest total revenue the store \n",
      "Store\n",
      "Store_8    35540\n",
      "Store_9    38449\n",
      "Store_4    39991\n",
      "Store_7    45679\n",
      "Store_2    46645\n",
      "Name: Revenue, dtype: int64\n"
     ]
    }
   ],
   "source": [
    "# Identify stores with the lowest total revenue\n",
    "print(\"Lowest total revenue the store \")\n",
    "print(data.groupby('Store')['Revenue'].sum().sort_values().head())"
   ]
  },
  {
   "cell_type": "code",
   "execution_count": 46,
   "metadata": {},
   "outputs": [
    {
     "name": "stdout",
     "output_type": "stream",
     "text": [
      "Revenue Generated per Employee for each Store\n",
      "0     11.464286\n",
      "1    252.166667\n",
      "2     70.038462\n",
      "3    187.428571\n",
      "4     26.625000\n",
      "Name: Revenue_employee, dtype: float64\n"
     ]
    }
   ],
   "source": [
    "# Compute the revenue generated per employee for each store\n",
    "print('Revenue Generated per Employee for each Store')\n",
    "data['Revenue_employee'] = data['Revenue']/data['Employees']\n",
    "print(data['Revenue_employee'].head())"
   ]
  },
  {
   "cell_type": "code",
   "execution_count": 41,
   "metadata": {},
   "outputs": [
    {
     "name": "stdout",
     "output_type": "stream",
     "text": [
      "Month\n",
      "1     49762\n",
      "2     61056\n",
      "3     47679\n",
      "4     66539\n",
      "5     45342\n",
      "6     36034\n",
      "7     34038\n",
      "8     35510\n",
      "9     30224\n",
      "10    36176\n",
      "11    30232\n",
      "12    37934\n",
      "Name: Revenue, dtype: int64\n"
     ]
    }
   ],
   "source": [
    "# Analyze how revenue trends over time\n",
    "# Convert the 'Date' column to datetime\n",
    "sales_df['Date'] = pd.to_datetime(sales_df['Date'])\n",
    "\n",
    "# Extract the month from the 'Date' column\n",
    "sales_df['Month'] = sales_df['Date'].dt.month\n",
    "\n",
    "# Group by month and calculate the total sales for each group\n",
    "monthly_sales = sales_df.groupby('Month')['Revenue'].sum()\n",
    "\n",
    "# Print the monthly sales\n",
    "print(monthly_sales)\n",
    "\n"
   ]
  },
  {
   "cell_type": "code",
   "execution_count": null,
   "metadata": {},
   "outputs": [
    {
     "data": {
      "image/png": "[encoded data removed]",
      "text/plain": [
       "<Figure size 1200x600 with 1 Axes>"
      ]
     },
     "metadata": {},
     "output_type": "display_data"
    }
   ],
   "source": [
    "sales_df['Date'] = pd.to_datetime(sales_df['Date'])\n",
    "sales_df['Month'] = sales_df['Date'].dt.month\n",
    "monthly_revenue = sales_df.groupby('Month')['Revenue'].sum()\n",
    "plt.figure(figsize=(12, 6))\n",
    "sns.lineplot(x=monthly_revenue.index.astype(str), y=monthly_revenue.values)\n",
    "plt.xticks(rotation=45)\n",
    "plt.title(\"Monthly Revenue Trends\")\n",
    "plt.xlabel(\"Month\")\n",
    "plt.ylabel(\"Total Revenue\")\n",
    "plt.show()\n"
   ]
  },
  {
   "cell_type": "code",
   "execution_count": 18,
   "metadata": {},
   "outputs": [
    {
     "name": "stdout",
     "output_type": "stream",
     "text": [
      "Highest number of transaction the City is : Chicago\n"
     ]
    }
   ],
   "source": [
    "#Find the city with the highest number of transaction.\n",
    "City = data.groupby('City')[\"Transactions\"].sum().idxmax()\n",
    "print(f'Highest number of transaction the City is : {City}')"
   ]
  },
  {
   "cell_type": "code",
   "execution_count": 21,
   "metadata": {},
   "outputs": [
    {
     "name": "stdout",
     "output_type": "stream",
     "text": [
      "Best-Selling Product based on the Quantity sold : Clothing\n"
     ]
    }
   ],
   "source": [
    "#identify the best-selling product based on the quantity sold\n",
    "best_sell = data.groupby('Product Category')['Quantity'].sum().idxmax()\n",
    "print(f'Best-Selling Product based on the Quantity sold : {best_sell}')"
   ]
  },
  {
   "cell_type": "code",
   "execution_count": 23,
   "metadata": {},
   "outputs": [
    {
     "name": "stdout",
     "output_type": "stream",
     "text": [
      "Highest Number of Transaction done by Store_10 Store\n"
     ]
    }
   ],
   "source": [
    "#Determine which store has the highest number of transaction\n",
    "Transaction = data.groupby('Store')['Transactions'].sum().idxmax()\n",
    "print(f'Highest Number of Transaction done by {Transaction} Store')"
   ]
  },
  {
   "cell_type": "code",
   "execution_count": 24,
   "metadata": {},
   "outputs": [
    {
     "name": "stdout",
     "output_type": "stream",
     "text": [
      "average revenue per transactioon across all store 20.817403359973902\n"
     ]
    }
   ],
   "source": [
    "#compute the average revenue per transactioon across all store\n",
    "avg_revenue_per_transaction = sales_df['Revenue'].sum() / sales_df['Transactions'].sum()\n",
    "print(f'average revenue per transactioon across all store {avg_revenue_per_transaction}')"
   ]
  },
  {
   "cell_type": "code",
   "execution_count": null,
   "metadata": {},
   "outputs": [
    {
     "name": "stdout",
     "output_type": "stream",
     "text": [
      "Highest sales of the month 4\n"
     ]
    }
   ],
   "source": [
    "#identity the month with highest sales\n",
    "sales_df['Date'] = pd.to_datetime(sales_df['Date'])\n",
    "sales_df['Month'] = sales_df['Date'].dt.month\n",
    "\n",
    "monthly_sales = sales_df.groupby('Month')['Revenue'].sum().idxmax()\n",
    "print(f'Highest sales of the month : {monthly_sales}')"
   ]
  },
  {
   "cell_type": "code",
   "execution_count": null,
   "metadata": {},
   "outputs": [
    {
     "name": "stdout",
     "output_type": "stream",
     "text": [
      "\n",
      "Day of the week with highest sales: Monday\n"
     ]
    }
   ],
   "source": [
    "#Find out which day of the week has the highest sales.\n",
    "sales_df['Day_of_Week'] = sales_df['Date'].dt.day_name()\n",
    "best_day = sales_df.groupby('Day_of_Week')['Revenue'].sum().idxmax()\n",
    "print(f\"\\nDay of the week with highest sales: {best_day}\")"
   ]
  },
  {
   "cell_type": "code",
   "execution_count": 37,
   "metadata": {},
   "outputs": [
    {
     "name": "stdout",
     "output_type": "stream",
     "text": [
      "\n",
      "Sales comparison between weekdays and weekends:\n",
      "Is_Weekend\n",
      "False    352375\n",
      "True     158151\n",
      "Name: Revenue, dtype: int64\n"
     ]
    }
   ],
   "source": [
    "#compare the between weekdays and weekends.\n",
    "data['Date'] = pd.to_datetime(data['Date'])\n",
    "\n",
    "# Create an 'Is_Weekend' column\n",
    "data['Is_Weekend'] = data['Date'].dt.dayofweek >= 5  # Saturday and Sunday are 5 and 6\n",
    "\n",
    "# Group by 'Is_Weekend' and sum the 'Revenue'\n",
    "weekday_vs_weekend = data.groupby('Is_Weekend')['Revenue'].sum()\n",
    "\n",
    "print(\"\\nSales comparison between weekdays and weekends:\")\n",
    "print(weekday_vs_weekend)"
   ]
  },
  {
   "cell_type": "code",
   "execution_count": 35,
   "metadata": {},
   "outputs": [
    {
     "data": {
      "image/png": "[encoded data removed]",
      "text/plain": [
       "<Figure size 1000x600 with 1 Axes>"
      ]
     },
     "metadata": {},
     "output_type": "display_data"
    }
   ],
   "source": [
    "#calculate total revenue based on different payment methods\n",
    "revenue_by_payment_method = data.groupby('Payment Method')['Revenue'].sum()\n",
    "revenue_by_payment_method.plot(kind='bar', figsize=(10, 6), color='skyblue', edgecolor='black')\n",
    "plt.title('Total Revenue by Payment Method')\n",
    "plt.xlabel('Payment Method')\n",
    "plt.ylabel('Total Revenue')\n",
    "plt.xticks(rotation=45)\n",
    "plt.grid(True)\n",
    "plt.show()"
   ]
  },
  {
   "cell_type": "code",
   "execution_count": 36,
   "metadata": {},
   "outputs": [
    {
     "name": "stdout",
     "output_type": "stream",
     "text": [
      "\n",
      "Correlation between discounts and revenue:\n",
      "          Discount   Revenue\n",
      "Discount  1.000000  0.033525\n",
      "Revenue   0.033525  1.000000\n"
     ]
    },
    {
     "data": {
      "image/png": "[encoded data removed]",
      "text/plain": [
       "<Figure size 800x600 with 2 Axes>"
      ]
     },
     "metadata": {},
     "output_type": "display_data"
    }
   ],
   "source": [
    "#Analyze the correlection between discount and revenue\n",
    "correlation = sales_df[['Discount', 'Revenue']].corr()\n",
    "print(\"\\nCorrelation between discounts and revenue:\")\n",
    "print(correlation)\n",
    "plt.figure(figsize=(8, 6))\n",
    "sns.heatmap(correlation, annot=True, cmap='coolwarm', vmin=-1, vmax=1, center=0, linewidths=.5, linecolor='black')\n",
    "plt.title('Correlation between Discounts and Revenue')\n",
    "plt.show()"
   ]
  }
 ],
 "metadata": {
  "kernelspec": {
   "display_name": "Python 3",
   "language": "python",
   "name": "python3"
  },
  "language_info": {
   "codemirror_mode": {
    "name": "ipython",
    "version": 3
   },
   "file_extension": ".py",
   "mimetype": "text/x-python",
   "name": "python",
   "nbconvert_exporter": "python",
   "pygments_lexer": "ipython3",
   "version": "3.12.1"
  }
 },
 "nbformat": 4,
 "nbformat_minor": 2
}
